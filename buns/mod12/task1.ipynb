{
  "nbformat": 4,
  "nbformat_minor": 0,
  "metadata": {
    "colab": {
      "provenance": []
    },
    "kernelspec": {
      "name": "python3",
      "display_name": "Python 3"
    },
    "language_info": {
      "name": "python"
    }
  },
  "cells": [
    {
      "cell_type": "code",
      "source": [
        "import sqlite3"
      ],
      "metadata": {
        "id": "woOArS9W1aU8"
      },
      "execution_count": 4,
      "outputs": []
    },
    {
      "cell_type": "code",
      "source": [
        "def get_all_actors():\n",
        "    query = \"\"\"SELECT show_id, netflix_titles.cast\n",
        "                FROM netflix_titles\n",
        "                WHERE netflix_titles.cast != ''\"\"\"\n",
        "\n",
        "    output = dict()\n",
        "\n",
        "    for cast in cursor.execute(query):\n",
        "        show_id = int(cast[0])\n",
        "        cast = str(cast[1]).split(', ')\n",
        "\n",
        "        for actor in cast:\n",
        "            if actor not in output:\n",
        "                output[actor] = set()\n",
        "\n",
        "            output[actor].add(show_id)\n",
        "\n",
        "    return output"
      ],
      "metadata": {
        "id": "i5yujxyh1cCe"
      },
      "execution_count": 5,
      "outputs": []
    },
    {
      "cell_type": "code",
      "source": [
        "def create_actors_table():\n",
        "    return \"\"\"\n",
        "            CREATE TABLE IF NOT EXISTS actors\n",
        "            (\n",
        "                actor_id INTEGER PRIMARY KEY AUTOINCREMENT,\n",
        "                actor_name TEXT UNIQUE NOT NULL\n",
        "            );\n",
        "            \"\"\""
      ],
      "metadata": {
        "id": "Wu8Uc7BV1flp"
      },
      "execution_count": 6,
      "outputs": []
    },
    {
      "cell_type": "code",
      "source": [
        "def create_actor_title_table():\n",
        "    return \"\"\"\n",
        "            CREATE TABLE IF NOT EXISTS actor_title\n",
        "            (\n",
        "                actor_id INTEGER NOT NULL,\n",
        "                title_id INTEGER NOT NULL,\n",
        "                PRIMARY KEY (actor_id, title_id),\n",
        "                FOREIGN KEY (actor_id) REFERENCES actors (actor_id),\n",
        "                FOREIGN KEY (title_id) REFERENCES netflix_titles (show_id)\n",
        "            );\n",
        "            \"\"\""
      ],
      "metadata": {
        "id": "wEkoHtuv1glO"
      },
      "execution_count": 7,
      "outputs": []
    },
    {
      "cell_type": "code",
      "source": [
        "def add_actor():\n",
        "    return \"\"\"\n",
        "           INSERT INTO actors (actor_name)\n",
        "           VALUES (?);\n",
        "           \"\"\""
      ],
      "metadata": {
        "id": "2M9Y52so1jMO"
      },
      "execution_count": 8,
      "outputs": []
    },
    {
      "cell_type": "code",
      "source": [
        "def add_actor_title():\n",
        "    return \"\"\"\n",
        "           INSERT INTO actor_title (actor_id, title_id)\n",
        "           VALUES (?, ?);\n",
        "           \"\"\""
      ],
      "metadata": {
        "id": "f8FQMnPx1lHR"
      },
      "execution_count": 9,
      "outputs": []
    },
    {
      "cell_type": "code",
      "source": [
        "def actors_pair():\n",
        "    return \"\"\"\n",
        "           WITH temp AS (\n",
        "                SELECT\n",
        "                   actor_id AS actor1,\n",
        "                   title_id AS title1\n",
        "                FROM actor_title\n",
        "                GROUP BY 1, 2\n",
        "           )\n",
        "           SELECT\n",
        "                (SELECT actor_name FROM actors WHERE actor_id = actor1) AS \"1-st actor\",\n",
        "                (SELECT actor_name FROM actors WHERE actor_id = actor2) AS \"2-nd actor\",\n",
        "                times_worked_together AS \"Shared films\"\n",
        "           FROM (\n",
        "           SELECT\n",
        "               u1.actor1 AS actor1,\n",
        "               u2.actor1 AS actor2,\n",
        "               COUNT(*) AS times_worked_together,\n",
        "               RANK() OVER (ORDER BY COUNT(*) DESC) Rnk\n",
        "           FROM temp u1\n",
        "               JOIN temp u2 ON u1.title1 = u2.title1 AND u1.actor1 < u2.actor1\n",
        "           GROUP by 1, 2\n",
        "           ) inner_1\n",
        "           WHERE Rnk = 1;\n",
        "           \"\"\""
      ],
      "metadata": {
        "id": "W_hOzUg41onY"
      },
      "execution_count": 10,
      "outputs": []
    },
    {
      "cell_type": "code",
      "execution_count": null,
      "metadata": {
        "id": "DQYr6Xuz1PiH"
      },
      "outputs": [],
      "source": [
        "if __name__ == \"__main__\":\n",
        "    connection = sqlite3.connect('netflix.sqlite')\n",
        "    cursor = connection.cursor()\n",
        "\n",
        "    cursor.execute(create_actors_table())\n",
        "    cursor.execute(create_actor_title_table())\n",
        "\n",
        "    all_actors = get_all_actors()\n",
        "\n",
        "    for author_name in all_actors.keys():\n",
        "        cursor.execute(add_actor(), (author_name,))\n",
        "\n",
        "    id_counter = 1\n",
        "\n",
        "    for movies in all_actors.values():\n",
        "        for movie_id in movies:\n",
        "            cursor.execute(add_actor_title(), (id_counter, movie_id))\n",
        "\n",
        "        id_counter += 1\n",
        "\n",
        "    print(cursor.execute(actors_pair()).fetchall())\n",
        "\n",
        "    connection.commit()\n",
        "    connection.close()"
      ]
    }
  ]
}
